{
 "metadata": {
  "language_info": {
   "codemirror_mode": {
    "name": "ipython",
    "version": 3
   },
   "file_extension": ".py",
   "mimetype": "text/x-python",
   "name": "python",
   "nbconvert_exporter": "python",
   "pygments_lexer": "ipython3",
   "version": "3.7.6-final"
  },
  "orig_nbformat": 2,
  "kernelspec": {
   "name": "python3",
   "display_name": "Python 3"
  }
 },
 "nbformat": 4,
 "nbformat_minor": 2,
 "cells": [
  {
   "cell_type": "code",
   "execution_count": 7,
   "metadata": {},
   "outputs": [],
   "source": [
    "import requests\n",
    "import pandas as pd"
   ]
  },
  {
   "cell_type": "code",
   "execution_count": 10,
   "metadata": {},
   "outputs": [],
   "source": [
    "now_playing_url=\"https://api.themoviedb.org/3/movie/upcoming?api_key=8bc5a5245af0e94fde2d2ac84dffb856&language=en-US\"\n",
    "now_playing_json = requests.get(now_playing_url).json()\n",
    "timeframe_end= now_playing_json['dates']['maximum']\n",
    "timeframe_start= now_playing_json['dates']['minimum']\n",
    "\n",
    "np_id= []\n",
    "np_title= []\n",
    "np_ovw= []\n",
    "np_release_date= []\n",
    "np_vote_average= []\n",
    "np_votecount= []\n",
    "np_original_language=[]\n",
    "np_popularity=[]\n",
    "sample_list = []\n",
    "np_genre_id=[]\n",
    "    \n",
    "num_page = 1\n",
    "for num_page in range(1, now_playing_json['total_pages']):\n",
    "    now_pp_url=\"https://api.themoviedb.org/3/movie/upcoming?api_key=8bc5a5245af0e94fde2d2ac84dffb856&language=en-US\"+ f\"&page={num_page}\" \n",
    "    now_playing_json_p = requests.get(now_pp_url).json()\n",
    "#     sample_list.append(now_playing_json_p)  \n",
    "    for x in range(0, len(now_playing_json_p['results'])):\n",
    "        np_id.append(now_playing_json_p['results'][x]['id'])\n",
    "        np_title.append(now_playing_json_p['results'][x]['title'])\n",
    "        np_ovw.append(now_playing_json_p['results'][x]['overview'])\n",
    "        np_release_date.append(now_playing_json_p['results'][x]['release_date'])\n",
    "        np_genre_id.append(now_playing_json_p['results'][x]['genre_ids'])\n",
    "        np_vote_average.append(now_playing_json_p['results'][x]['vote_average'])\n",
    "        np_votecount.append(now_playing_json_p['results'][x]['vote_count'])\n",
    "        np_original_language.append(now_playing_json_p['results'][x]['original_language'])\n",
    "        np_popularity.append(now_playing_json_p['results'][x]['popularity'])\n",
    "                        \n",
    "# now_playing_json_p['results']['overview']\n",
    "# now_playing_json_p\n",
    "now_playin_df= pd.DataFrame({\"np_id\": np_id,\n",
    "                       \"np_title\":np_title, \"genre_id\": np_genre_id,\n",
    "                            \"release_date\": np_release_date,\"vote_count\":np_votecount,\"np_populatrity\": np_popularity, \"original_language\" : np_original_language,\n",
    "                             \"timeframe_end\":timeframe_end, \"timeframe_start\":timeframe_start, \n",
    "                           })\n",
    "now_playin_df.to_csv(\"upcoming.csv\")\n",
    "# type(np_genre_id)"
   ]
  },
  {
   "cell_type": "code",
   "execution_count": 9,
   "metadata": {},
   "outputs": [
    {
     "output_type": "execute_result",
     "data": {
      "text/plain": [
       "      np_id              np_title          genre_id release_date  vote_count  \\\n",
       "0    718444                 Rogue  [28, 12, 18, 53]   2020-08-20         347   \n",
       "1    594718               Sputnik     [878, 18, 27]   2020-09-10          47   \n",
       "2    425001  The War with Grandpa   [35, 10751, 18]   2020-08-27         117   \n",
       "3    591629           Lady Driver              [18]   2020-12-03           0   \n",
       "4    595149           Death of Me        [27, 9648]   2020-10-02          47   \n",
       "..      ...                   ...               ...          ...         ...   \n",
       "235  758534                 親愛的殺手       [18, 10749]   2020-12-04           0   \n",
       "236  722774     The water springs              [18]   2020-12-01           0   \n",
       "237  660337   Atarrabi & Mikelats              [18]   2020-12-02           0   \n",
       "238  738828       Millione Guinee                []   2020-12-07           0   \n",
       "239  610281             The Three       [18, 10749]   2020-12-03           0   \n",
       "\n",
       "     np_populatrity original_language timeframe_end timeframe_start  \n",
       "0           413.599                en    2020-12-07      2020-11-20  \n",
       "1           325.261                ru    2020-12-07      2020-11-20  \n",
       "2           294.239                en    2020-12-07      2020-11-20  \n",
       "3           199.914                en    2020-12-07      2020-11-20  \n",
       "4           199.852                en    2020-12-07      2020-11-20  \n",
       "..              ...               ...           ...             ...  \n",
       "235           1.386                zh    2020-12-07      2020-11-20  \n",
       "236           1.318                es    2020-12-07      2020-11-20  \n",
       "237           1.299                eu    2020-12-07      2020-11-20  \n",
       "238           1.271                ar    2020-12-07      2020-11-20  \n",
       "239           1.270                ru    2020-12-07      2020-11-20  \n",
       "\n",
       "[240 rows x 9 columns]"
      ],
      "text/html": "<div>\n<style scoped>\n    .dataframe tbody tr th:only-of-type {\n        vertical-align: middle;\n    }\n\n    .dataframe tbody tr th {\n        vertical-align: top;\n    }\n\n    .dataframe thead th {\n        text-align: right;\n    }\n</style>\n<table border=\"1\" class=\"dataframe\">\n  <thead>\n    <tr style=\"text-align: right;\">\n      <th></th>\n      <th>np_id</th>\n      <th>np_title</th>\n      <th>genre_id</th>\n      <th>release_date</th>\n      <th>vote_count</th>\n      <th>np_populatrity</th>\n      <th>original_language</th>\n      <th>timeframe_end</th>\n      <th>timeframe_start</th>\n    </tr>\n  </thead>\n  <tbody>\n    <tr>\n      <th>0</th>\n      <td>718444</td>\n      <td>Rogue</td>\n      <td>[28, 12, 18, 53]</td>\n      <td>2020-08-20</td>\n      <td>347</td>\n      <td>413.599</td>\n      <td>en</td>\n      <td>2020-12-07</td>\n      <td>2020-11-20</td>\n    </tr>\n    <tr>\n      <th>1</th>\n      <td>594718</td>\n      <td>Sputnik</td>\n      <td>[878, 18, 27]</td>\n      <td>2020-09-10</td>\n      <td>47</td>\n      <td>325.261</td>\n      <td>ru</td>\n      <td>2020-12-07</td>\n      <td>2020-11-20</td>\n    </tr>\n    <tr>\n      <th>2</th>\n      <td>425001</td>\n      <td>The War with Grandpa</td>\n      <td>[35, 10751, 18]</td>\n      <td>2020-08-27</td>\n      <td>117</td>\n      <td>294.239</td>\n      <td>en</td>\n      <td>2020-12-07</td>\n      <td>2020-11-20</td>\n    </tr>\n    <tr>\n      <th>3</th>\n      <td>591629</td>\n      <td>Lady Driver</td>\n      <td>[18]</td>\n      <td>2020-12-03</td>\n      <td>0</td>\n      <td>199.914</td>\n      <td>en</td>\n      <td>2020-12-07</td>\n      <td>2020-11-20</td>\n    </tr>\n    <tr>\n      <th>4</th>\n      <td>595149</td>\n      <td>Death of Me</td>\n      <td>[27, 9648]</td>\n      <td>2020-10-02</td>\n      <td>47</td>\n      <td>199.852</td>\n      <td>en</td>\n      <td>2020-12-07</td>\n      <td>2020-11-20</td>\n    </tr>\n    <tr>\n      <th>...</th>\n      <td>...</td>\n      <td>...</td>\n      <td>...</td>\n      <td>...</td>\n      <td>...</td>\n      <td>...</td>\n      <td>...</td>\n      <td>...</td>\n      <td>...</td>\n    </tr>\n    <tr>\n      <th>235</th>\n      <td>758534</td>\n      <td>親愛的殺手</td>\n      <td>[18, 10749]</td>\n      <td>2020-12-04</td>\n      <td>0</td>\n      <td>1.386</td>\n      <td>zh</td>\n      <td>2020-12-07</td>\n      <td>2020-11-20</td>\n    </tr>\n    <tr>\n      <th>236</th>\n      <td>722774</td>\n      <td>The water springs</td>\n      <td>[18]</td>\n      <td>2020-12-01</td>\n      <td>0</td>\n      <td>1.318</td>\n      <td>es</td>\n      <td>2020-12-07</td>\n      <td>2020-11-20</td>\n    </tr>\n    <tr>\n      <th>237</th>\n      <td>660337</td>\n      <td>Atarrabi &amp; Mikelats</td>\n      <td>[18]</td>\n      <td>2020-12-02</td>\n      <td>0</td>\n      <td>1.299</td>\n      <td>eu</td>\n      <td>2020-12-07</td>\n      <td>2020-11-20</td>\n    </tr>\n    <tr>\n      <th>238</th>\n      <td>738828</td>\n      <td>Millione Guinee</td>\n      <td>[]</td>\n      <td>2020-12-07</td>\n      <td>0</td>\n      <td>1.271</td>\n      <td>ar</td>\n      <td>2020-12-07</td>\n      <td>2020-11-20</td>\n    </tr>\n    <tr>\n      <th>239</th>\n      <td>610281</td>\n      <td>The Three</td>\n      <td>[18, 10749]</td>\n      <td>2020-12-03</td>\n      <td>0</td>\n      <td>1.270</td>\n      <td>ru</td>\n      <td>2020-12-07</td>\n      <td>2020-11-20</td>\n    </tr>\n  </tbody>\n</table>\n<p>240 rows × 9 columns</p>\n</div>"
     },
     "metadata": {},
     "execution_count": 9
    }
   ],
   "source": [
    "now_playin_df"
   ]
  },
  {
   "cell_type": "code",
   "execution_count": null,
   "metadata": {},
   "outputs": [],
   "source": []
  }
 ]
}