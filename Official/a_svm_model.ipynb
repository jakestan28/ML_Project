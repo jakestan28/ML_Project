{
 "cells": [
  {
   "cell_type": "code",
   "execution_count": 305,
   "metadata": {},
   "outputs": [],
   "source": [
    "#Next steps -  \n",
    "#Go through the Instructor Day 2 excertize and visualize your results https://gt.bootcampcontent.com/GT-Coding-Boot-Camp/gt-atl-data-pt-06-2020-u-c/blob/master/DataViz-Content/21-Machine-Learning/2/Activities/07-Ins_SVM/Solved/Ins_Support_Vector_Machine.ipynb\n",
    "#4 - time to visualize. A few questions to consider: \n",
    "#Qa - what trends exist with movies that have actually scored 7.5 avg rating\n",
    "#Qb - what % of future movies are expected to have a 7.5+ rating \n",
    "#Qc - how does the % of future movies with a 7.5+ rating compare to the past? \n",
    "#Qd - what are key features of 7.5 internatinal movies compared to 7.5 US movies? \n",
    "#Conclusion - as a movie executive, these are the features most likily to score well with viewers\n",
    "#Bonus - what's was revenue of recent releases with the top 5 highest average vote scores?"
   ]
  },
  {
   "cell_type": "code",
   "execution_count": 303,
   "metadata": {},
   "outputs": [],
   "source": [
    "import pandas as pd\n",
    "import requests\n",
    "import json\n",
    "from pprint import pprint\n",
    "import numpy as np\n",
    "from pandas.io.json import json_normalize\n",
    "import matplotlib.pyplot as plt\n",
    "from matplotlib import style\n",
    "style.use(\"ggplot\")"
   ]
  },
  {
   "cell_type": "code",
   "execution_count": 227,
   "metadata": {},
   "outputs": [
    {
     "data": {
      "text/html": [
       "<div>\n",
       "<style scoped>\n",
       "    .dataframe tbody tr th:only-of-type {\n",
       "        vertical-align: middle;\n",
       "    }\n",
       "\n",
       "    .dataframe tbody tr th {\n",
       "        vertical-align: top;\n",
       "    }\n",
       "\n",
       "    .dataframe thead th {\n",
       "        text-align: right;\n",
       "    }\n",
       "</style>\n",
       "<table border=\"1\" class=\"dataframe\">\n",
       "  <thead>\n",
       "    <tr style=\"text-align: right;\">\n",
       "      <th></th>\n",
       "      <th>id</th>\n",
       "      <th>title</th>\n",
       "      <th>popularity</th>\n",
       "      <th>vote_count</th>\n",
       "      <th>vote_average</th>\n",
       "      <th>original_language</th>\n",
       "      <th>release_date</th>\n",
       "    </tr>\n",
       "  </thead>\n",
       "  <tbody>\n",
       "    <tr>\n",
       "      <th>0</th>\n",
       "      <td>531219</td>\n",
       "      <td>Roald Dahl's The Witches</td>\n",
       "      <td>1497.123</td>\n",
       "      <td>698</td>\n",
       "      <td>6.9</td>\n",
       "      <td>en</td>\n",
       "      <td>2020-10-26</td>\n",
       "    </tr>\n",
       "    <tr>\n",
       "      <th>1</th>\n",
       "      <td>718444</td>\n",
       "      <td>Rogue</td>\n",
       "      <td>562.083</td>\n",
       "      <td>354</td>\n",
       "      <td>5.8</td>\n",
       "      <td>en</td>\n",
       "      <td>2020-08-20</td>\n",
       "    </tr>\n",
       "    <tr>\n",
       "      <th>2</th>\n",
       "      <td>594718</td>\n",
       "      <td>Sputnik</td>\n",
       "      <td>475.982</td>\n",
       "      <td>50</td>\n",
       "      <td>6.4</td>\n",
       "      <td>ru</td>\n",
       "      <td>2020-09-10</td>\n",
       "    </tr>\n",
       "    <tr>\n",
       "      <th>3</th>\n",
       "      <td>531499</td>\n",
       "      <td>The Tax Collector</td>\n",
       "      <td>444.615</td>\n",
       "      <td>179</td>\n",
       "      <td>6.0</td>\n",
       "      <td>en</td>\n",
       "      <td>2020-08-07</td>\n",
       "    </tr>\n",
       "    <tr>\n",
       "      <th>4</th>\n",
       "      <td>425001</td>\n",
       "      <td>The War with Grandpa</td>\n",
       "      <td>347.616</td>\n",
       "      <td>121</td>\n",
       "      <td>6.0</td>\n",
       "      <td>en</td>\n",
       "      <td>2020-08-27</td>\n",
       "    </tr>\n",
       "    <tr>\n",
       "      <th>...</th>\n",
       "      <td>...</td>\n",
       "      <td>...</td>\n",
       "      <td>...</td>\n",
       "      <td>...</td>\n",
       "      <td>...</td>\n",
       "      <td>...</td>\n",
       "      <td>...</td>\n",
       "    </tr>\n",
       "    <tr>\n",
       "      <th>195</th>\n",
       "      <td>741032</td>\n",
       "      <td>Danyka</td>\n",
       "      <td>6.292</td>\n",
       "      <td>0</td>\n",
       "      <td>0.0</td>\n",
       "      <td>en</td>\n",
       "      <td>2020-11-26</td>\n",
       "    </tr>\n",
       "    <tr>\n",
       "      <th>196</th>\n",
       "      <td>653756</td>\n",
       "      <td>The Mole Agent</td>\n",
       "      <td>4.199</td>\n",
       "      <td>0</td>\n",
       "      <td>0.0</td>\n",
       "      <td>es</td>\n",
       "      <td>2020-12-11</td>\n",
       "    </tr>\n",
       "    <tr>\n",
       "      <th>197</th>\n",
       "      <td>660330</td>\n",
       "      <td>Night Shift</td>\n",
       "      <td>5.035</td>\n",
       "      <td>34</td>\n",
       "      <td>6.3</td>\n",
       "      <td>fr</td>\n",
       "      <td>2020-05-21</td>\n",
       "    </tr>\n",
       "    <tr>\n",
       "      <th>198</th>\n",
       "      <td>745589</td>\n",
       "      <td>Villa caprice</td>\n",
       "      <td>4.251</td>\n",
       "      <td>0</td>\n",
       "      <td>0.0</td>\n",
       "      <td>fr</td>\n",
       "      <td>2020-11-25</td>\n",
       "    </tr>\n",
       "    <tr>\n",
       "      <th>199</th>\n",
       "      <td>573650</td>\n",
       "      <td>Bangla</td>\n",
       "      <td>6.157</td>\n",
       "      <td>74</td>\n",
       "      <td>6.1</td>\n",
       "      <td>it</td>\n",
       "      <td>2019-05-16</td>\n",
       "    </tr>\n",
       "  </tbody>\n",
       "</table>\n",
       "<p>200 rows × 7 columns</p>\n",
       "</div>"
      ],
      "text/plain": [
       "         id                     title  popularity  vote_count  vote_average  \\\n",
       "0    531219  Roald Dahl's The Witches    1497.123         698           6.9   \n",
       "1    718444                     Rogue     562.083         354           5.8   \n",
       "2    594718                   Sputnik     475.982          50           6.4   \n",
       "3    531499         The Tax Collector     444.615         179           6.0   \n",
       "4    425001      The War with Grandpa     347.616         121           6.0   \n",
       "..      ...                       ...         ...         ...           ...   \n",
       "195  741032                    Danyka       6.292           0           0.0   \n",
       "196  653756            The Mole Agent       4.199           0           0.0   \n",
       "197  660330               Night Shift       5.035          34           6.3   \n",
       "198  745589             Villa caprice       4.251           0           0.0   \n",
       "199  573650                    Bangla       6.157          74           6.1   \n",
       "\n",
       "    original_language release_date  \n",
       "0                  en   2020-10-26  \n",
       "1                  en   2020-08-20  \n",
       "2                  ru   2020-09-10  \n",
       "3                  en   2020-08-07  \n",
       "4                  en   2020-08-27  \n",
       "..                ...          ...  \n",
       "195                en   2020-11-26  \n",
       "196                es   2020-12-11  \n",
       "197                fr   2020-05-21  \n",
       "198                fr   2020-11-25  \n",
       "199                it   2019-05-16  \n",
       "\n",
       "[200 rows x 7 columns]"
      ]
     },
     "execution_count": 227,
     "metadata": {},
     "output_type": "execute_result"
    }
   ],
   "source": [
    "a = pd.read_csv(\"a.csv\")\n",
    "a.columns\n",
    "df = a[['id','title','popularity','vote_count','vote_average','original_language','release_date']]\n",
    "df"
   ]
  },
  {
   "cell_type": "code",
   "execution_count": 118,
   "metadata": {},
   "outputs": [],
   "source": [
    "#clearn your data so that all your features are categorical or numerical\n",
    "#feature a: popularity is fine as is\n",
    "#feature b: release data needs to be in categorical form by month \n",
    "#feature c: original language is fine as is "
   ]
  },
  {
   "cell_type": "code",
   "execution_count": 213,
   "metadata": {},
   "outputs": [],
   "source": [
    "#make release_data categorical. Parse by year, month, day then drop year\n",
    "# new_releases_df['release_month'] = \n",
    "# df['year'] = pd.DatetimeIndex(df['release_date']).year\n",
    "# df['r_month'] = pd.DatetimeIndex(df['release_date']).month\n",
    "# df['r_day'] = pd.DatetimeIndex(df['release_date']).day\n",
    "# df2 = df[['id','title','popularity','vote_count','vote_average','origional_language','release_date','r_year','r_month','r_day']]\n",
    "# final_data_clean2 .head(3)"
   ]
  },
  {
   "cell_type": "code",
   "execution_count": null,
   "metadata": {},
   "outputs": [],
   "source": [
    "#create a csv for movies that haven't been released"
   ]
  },
  {
   "cell_type": "code",
   "execution_count": 233,
   "metadata": {},
   "outputs": [],
   "source": [
    "#seperate your dataset into movies out and soon to be released movies \n",
    "movies_to_predict = df[(df['vote_count'] == 0)]\n",
    "train_model_movies = df[(df['vote_count'] > 0)]\n",
    "movies_to_predict.to_csv(\"a_movies_to_predict.csv\")\n",
    "train_model_movies.to_csv(\"a_train_model_movies.csv\")"
   ]
  },
  {
   "cell_type": "code",
   "execution_count": null,
   "metadata": {},
   "outputs": [],
   "source": [
    "# MODELING TIME"
   ]
  },
  {
   "cell_type": "code",
   "execution_count": 234,
   "metadata": {},
   "outputs": [
    {
     "data": {
      "text/plain": [
       "(98, 7)"
      ]
     },
     "execution_count": 234,
     "metadata": {},
     "output_type": "execute_result"
    }
   ],
   "source": [
    "#Step 01 - import\n",
    "%matplotlib inline\n",
    "import matplotlib.pyplot as plt\n",
    "import pandas as pd\n",
    "from sklearn.datasets import make_blobs\n",
    "from sklearn.linear_model import LogisticRegression\n",
    "from sklearn.model_selection import train_test_split\n",
    "import seaborn as sns\n",
    "\n",
    "#Step 02 - Look at the shape of the dataframe\n",
    "train_model_movies.shape"
   ]
  },
  {
   "cell_type": "code",
   "execution_count": 41,
   "metadata": {},
   "outputs": [],
   "source": [
    "#input variables are: popularity, vote_count, original language (en: 1; non-en: 0)\n",
    "#ouput variable: is this true? \"yes\" - vote_average is > 5.0 for future movies "
   ]
  },
  {
   "cell_type": "code",
   "execution_count": 235,
   "metadata": {},
   "outputs": [
    {
     "data": {
      "text/plain": [
       "array([6.9, 5.8, 6.4, 6. , 6.6, 5.5, 6.3, 7.1, 6.7, 5.7, 6.8, 7.9, 6.5,\n",
       "       7.5, 7.8, 4.4, 4.3, 6.1, 5.9, 7.2, 7. , 6.2, 4.7, 8.5, 8.1, 4.9,\n",
       "       8. , 7.6, 1. , 5.1, 8.7, 7.7, 4.5, 3.8, 5.6, 7.4, 5.4])"
      ]
     },
     "execution_count": 235,
     "metadata": {},
     "output_type": "execute_result"
    }
   ],
   "source": [
    "#Create two bins for vote_average: above and at/below average\n",
    "#first let's look at the distribution of vote_averages\n",
    "train_model_movies['vote_average'].unique()"
   ]
  },
  {
   "cell_type": "code",
   "execution_count": 280,
   "metadata": {},
   "outputs": [
    {
     "name": "stderr",
     "output_type": "stream",
     "text": [
      "<ipython-input-280-ca98b1f268c4>:2: SettingWithCopyWarning: \n",
      "A value is trying to be set on a copy of a slice from a DataFrame.\n",
      "Try using .loc[row_indexer,col_indexer] = value instead\n",
      "\n",
      "See the caveats in the documentation: https://pandas.pydata.org/pandas-docs/stable/user_guide/indexing.html#returning-a-view-versus-a-copy\n",
      "  train_model_movies['avg_vote_6+'] = np.where((train_model_movies['vote_average']>=6), 1, 0)\n",
      "<ipython-input-280-ca98b1f268c4>:4: SettingWithCopyWarning: \n",
      "A value is trying to be set on a copy of a slice from a DataFrame.\n",
      "Try using .loc[row_indexer,col_indexer] = value instead\n",
      "\n",
      "See the caveats in the documentation: https://pandas.pydata.org/pandas-docs/stable/user_guide/indexing.html#returning-a-view-versus-a-copy\n",
      "  train_model_movies['en = lang'] = np.where((train_model_movies['original_language']>='en'), 1, 0)\n"
     ]
    },
    {
     "data": {
      "text/html": [
       "<div>\n",
       "<style scoped>\n",
       "    .dataframe tbody tr th:only-of-type {\n",
       "        vertical-align: middle;\n",
       "    }\n",
       "\n",
       "    .dataframe tbody tr th {\n",
       "        vertical-align: top;\n",
       "    }\n",
       "\n",
       "    .dataframe thead th {\n",
       "        text-align: right;\n",
       "    }\n",
       "</style>\n",
       "<table border=\"1\" class=\"dataframe\">\n",
       "  <thead>\n",
       "    <tr style=\"text-align: right;\">\n",
       "      <th></th>\n",
       "      <th>id</th>\n",
       "      <th>title</th>\n",
       "      <th>popularity</th>\n",
       "      <th>vote_count</th>\n",
       "      <th>vote_average</th>\n",
       "      <th>original_language</th>\n",
       "      <th>release_date</th>\n",
       "      <th>avg_vote_6+</th>\n",
       "      <th>en = lang</th>\n",
       "      <th>release_month</th>\n",
       "      <th>release_day</th>\n",
       "      <th>release_year</th>\n",
       "    </tr>\n",
       "  </thead>\n",
       "  <tbody>\n",
       "    <tr>\n",
       "      <th>0</th>\n",
       "      <td>531219</td>\n",
       "      <td>Roald Dahl's The Witches</td>\n",
       "      <td>1497.123</td>\n",
       "      <td>698</td>\n",
       "      <td>6.9</td>\n",
       "      <td>en</td>\n",
       "      <td>2020-10-26</td>\n",
       "      <td>1</td>\n",
       "      <td>1</td>\n",
       "      <td>10</td>\n",
       "      <td>26</td>\n",
       "      <td>2020</td>\n",
       "    </tr>\n",
       "    <tr>\n",
       "      <th>1</th>\n",
       "      <td>718444</td>\n",
       "      <td>Rogue</td>\n",
       "      <td>562.083</td>\n",
       "      <td>354</td>\n",
       "      <td>5.8</td>\n",
       "      <td>en</td>\n",
       "      <td>2020-08-20</td>\n",
       "      <td>0</td>\n",
       "      <td>1</td>\n",
       "      <td>8</td>\n",
       "      <td>20</td>\n",
       "      <td>2020</td>\n",
       "    </tr>\n",
       "    <tr>\n",
       "      <th>2</th>\n",
       "      <td>594718</td>\n",
       "      <td>Sputnik</td>\n",
       "      <td>475.982</td>\n",
       "      <td>50</td>\n",
       "      <td>6.4</td>\n",
       "      <td>ru</td>\n",
       "      <td>2020-09-10</td>\n",
       "      <td>1</td>\n",
       "      <td>1</td>\n",
       "      <td>9</td>\n",
       "      <td>10</td>\n",
       "      <td>2020</td>\n",
       "    </tr>\n",
       "    <tr>\n",
       "      <th>3</th>\n",
       "      <td>531499</td>\n",
       "      <td>The Tax Collector</td>\n",
       "      <td>444.615</td>\n",
       "      <td>179</td>\n",
       "      <td>6.0</td>\n",
       "      <td>en</td>\n",
       "      <td>2020-08-07</td>\n",
       "      <td>1</td>\n",
       "      <td>1</td>\n",
       "      <td>8</td>\n",
       "      <td>7</td>\n",
       "      <td>2020</td>\n",
       "    </tr>\n",
       "    <tr>\n",
       "      <th>4</th>\n",
       "      <td>425001</td>\n",
       "      <td>The War with Grandpa</td>\n",
       "      <td>347.616</td>\n",
       "      <td>121</td>\n",
       "      <td>6.0</td>\n",
       "      <td>en</td>\n",
       "      <td>2020-08-27</td>\n",
       "      <td>1</td>\n",
       "      <td>1</td>\n",
       "      <td>8</td>\n",
       "      <td>27</td>\n",
       "      <td>2020</td>\n",
       "    </tr>\n",
       "    <tr>\n",
       "      <th>...</th>\n",
       "      <td>...</td>\n",
       "      <td>...</td>\n",
       "      <td>...</td>\n",
       "      <td>...</td>\n",
       "      <td>...</td>\n",
       "      <td>...</td>\n",
       "      <td>...</td>\n",
       "      <td>...</td>\n",
       "      <td>...</td>\n",
       "      <td>...</td>\n",
       "      <td>...</td>\n",
       "      <td>...</td>\n",
       "    </tr>\n",
       "    <tr>\n",
       "      <th>188</th>\n",
       "      <td>424201</td>\n",
       "      <td>Burden</td>\n",
       "      <td>6.429</td>\n",
       "      <td>13</td>\n",
       "      <td>6.0</td>\n",
       "      <td>en</td>\n",
       "      <td>2020-02-28</td>\n",
       "      <td>1</td>\n",
       "      <td>1</td>\n",
       "      <td>2</td>\n",
       "      <td>28</td>\n",
       "      <td>2020</td>\n",
       "    </tr>\n",
       "    <tr>\n",
       "      <th>190</th>\n",
       "      <td>744738</td>\n",
       "      <td>Dune Drifter</td>\n",
       "      <td>5.837</td>\n",
       "      <td>4</td>\n",
       "      <td>5.4</td>\n",
       "      <td>en</td>\n",
       "      <td>2020-10-24</td>\n",
       "      <td>0</td>\n",
       "      <td>1</td>\n",
       "      <td>10</td>\n",
       "      <td>24</td>\n",
       "      <td>2020</td>\n",
       "    </tr>\n",
       "    <tr>\n",
       "      <th>193</th>\n",
       "      <td>613319</td>\n",
       "      <td>Selfie</td>\n",
       "      <td>4.927</td>\n",
       "      <td>48</td>\n",
       "      <td>5.6</td>\n",
       "      <td>fr</td>\n",
       "      <td>2020-01-15</td>\n",
       "      <td>0</td>\n",
       "      <td>1</td>\n",
       "      <td>1</td>\n",
       "      <td>15</td>\n",
       "      <td>2020</td>\n",
       "    </tr>\n",
       "    <tr>\n",
       "      <th>197</th>\n",
       "      <td>660330</td>\n",
       "      <td>Night Shift</td>\n",
       "      <td>5.035</td>\n",
       "      <td>34</td>\n",
       "      <td>6.3</td>\n",
       "      <td>fr</td>\n",
       "      <td>2020-05-21</td>\n",
       "      <td>1</td>\n",
       "      <td>1</td>\n",
       "      <td>5</td>\n",
       "      <td>21</td>\n",
       "      <td>2020</td>\n",
       "    </tr>\n",
       "    <tr>\n",
       "      <th>199</th>\n",
       "      <td>573650</td>\n",
       "      <td>Bangla</td>\n",
       "      <td>6.157</td>\n",
       "      <td>74</td>\n",
       "      <td>6.1</td>\n",
       "      <td>it</td>\n",
       "      <td>2019-05-16</td>\n",
       "      <td>1</td>\n",
       "      <td>1</td>\n",
       "      <td>5</td>\n",
       "      <td>16</td>\n",
       "      <td>2019</td>\n",
       "    </tr>\n",
       "  </tbody>\n",
       "</table>\n",
       "<p>98 rows × 12 columns</p>\n",
       "</div>"
      ],
      "text/plain": [
       "         id                     title  popularity  vote_count  vote_average  \\\n",
       "0    531219  Roald Dahl's The Witches    1497.123         698           6.9   \n",
       "1    718444                     Rogue     562.083         354           5.8   \n",
       "2    594718                   Sputnik     475.982          50           6.4   \n",
       "3    531499         The Tax Collector     444.615         179           6.0   \n",
       "4    425001      The War with Grandpa     347.616         121           6.0   \n",
       "..      ...                       ...         ...         ...           ...   \n",
       "188  424201                    Burden       6.429          13           6.0   \n",
       "190  744738              Dune Drifter       5.837           4           5.4   \n",
       "193  613319                    Selfie       4.927          48           5.6   \n",
       "197  660330               Night Shift       5.035          34           6.3   \n",
       "199  573650                    Bangla       6.157          74           6.1   \n",
       "\n",
       "    original_language release_date  avg_vote_6+  en = lang  release_month  \\\n",
       "0                  en   2020-10-26            1          1             10   \n",
       "1                  en   2020-08-20            0          1              8   \n",
       "2                  ru   2020-09-10            1          1              9   \n",
       "3                  en   2020-08-07            1          1              8   \n",
       "4                  en   2020-08-27            1          1              8   \n",
       "..                ...          ...          ...        ...            ...   \n",
       "188                en   2020-02-28            1          1              2   \n",
       "190                en   2020-10-24            0          1             10   \n",
       "193                fr   2020-01-15            0          1              1   \n",
       "197                fr   2020-05-21            1          1              5   \n",
       "199                it   2019-05-16            1          1              5   \n",
       "\n",
       "     release_day  release_year  \n",
       "0             26          2020  \n",
       "1             20          2020  \n",
       "2             10          2020  \n",
       "3              7          2020  \n",
       "4             27          2020  \n",
       "..           ...           ...  \n",
       "188           28          2020  \n",
       "190           24          2020  \n",
       "193           15          2020  \n",
       "197           21          2020  \n",
       "199           16          2019  \n",
       "\n",
       "[98 rows x 12 columns]"
      ]
     },
     "execution_count": 280,
     "metadata": {},
     "output_type": "execute_result"
    }
   ],
   "source": [
    "#next let's group into either \"above_avg\" (5.0+) or \"not\" (>=5.0)\n",
    "train_model_movies['avg_vote_6+'] = np.where((train_model_movies['vote_average']>=6), 1, 0)\n",
    "train_model_movies.tail(3)\n",
    "train_model_movies['en = lang'] = np.where((train_model_movies['original_language']>='en'), 1, 0)\n",
    "train_model_movies\n",
    "train_model_movies2 = train_model_movies.drop(['avg_vote_7.5+'], axis=1)\n",
    "train_model_movies2.drop(['avg_vote_5+'], axis=1)\n",
    "train_model_movies3 = train_model_movies2.drop(['en as original lang'], axis=1)\n",
    "train_model_movies4 = train_model_movies3.drop(['avg_vote_5+'], axis=1)\n",
    "train_model_movies4\n",
    "train_model_movies4['release_month']= pd.DatetimeIndex(train_model_movies4['release_date']).month\n",
    "train_model_movies4['release_day']= pd.DatetimeIndex(train_model_movies4['release_date']).day\n",
    "train_model_movies4['release_year']= pd.DatetimeIndex(train_model_movies4['release_date']).year\n",
    "train_model_movies4"
   ]
  },
  {
   "cell_type": "code",
   "execution_count": 281,
   "metadata": {},
   "outputs": [
    {
     "data": {
      "text/plain": [
       "1    76\n",
       "0    22\n",
       "Name: avg_vote_6+, dtype: int64"
      ]
     },
     "execution_count": 281,
     "metadata": {},
     "output_type": "execute_result"
    }
   ],
   "source": [
    "train_model_movies4['avg_vote_6+'].value_counts()"
   ]
  },
  {
   "cell_type": "code",
   "execution_count": 284,
   "metadata": {},
   "outputs": [],
   "source": [
    "#Step 03 - Define the features of the target\n",
    "X = train_model_movies4[['popularity','vote_count','vote_average','en = lang','release_month','release_day','release_year']]\n",
    "y = train_model_movies4[['avg_vote_6+']]"
   ]
  },
  {
   "cell_type": "code",
   "execution_count": 285,
   "metadata": {},
   "outputs": [
    {
     "name": "stderr",
     "output_type": "stream",
     "text": [
      "/Users/jennieleegruber/opt/anaconda3/lib/python3.8/site-packages/sklearn/utils/validation.py:73: DataConversionWarning: A column-vector y was passed when a 1d array was expected. Please change the shape of y to (n_samples, ), for example using ravel().\n",
      "  return f(**kwargs)\n"
     ]
    },
    {
     "data": {
      "text/plain": [
       "SVC(kernel='linear')"
      ]
     },
     "execution_count": 285,
     "metadata": {},
     "output_type": "execute_result"
    }
   ],
   "source": [
    "#Split the dataset in to test and train using sklearn before building the SVM \n",
    "from sklearn.model_selection import train_test_split\n",
    "X_train, X_test, y_train, y_test = train_test_split(X, y, random_state=42)\n",
    "from sklearn.svm import SVC\n",
    "svclassifier = SVC(kernel='linear')\n",
    "svclassifier.fit(X_train, y_train)"
   ]
  },
  {
   "cell_type": "code",
   "execution_count": 291,
   "metadata": {},
   "outputs": [
    {
     "name": "stderr",
     "output_type": "stream",
     "text": [
      "/Users/jennieleegruber/opt/anaconda3/lib/python3.8/site-packages/sklearn/utils/validation.py:73: DataConversionWarning: A column-vector y was passed when a 1d array was expected. Please change the shape of y to (n_samples, ), for example using ravel().\n",
      "  return f(**kwargs)\n"
     ]
    },
    {
     "data": {
      "text/plain": [
       "SVC(kernel='linear')"
      ]
     },
     "execution_count": 291,
     "metadata": {},
     "output_type": "execute_result"
    }
   ],
   "source": [
    "#define the model\n",
    "model = SVC(kernel='linear')\n",
    "model.fit(X_train, y_train)"
   ]
  },
  {
   "cell_type": "code",
   "execution_count": 293,
   "metadata": {},
   "outputs": [],
   "source": [
    "SVC(C=1.0, cache_size=200, class_weight=None, coef0=0.0,\n",
    "  decision_function_shape='ovr', degree=3, gamma='auto', kernel='linear',\n",
    "  max_iter=-1, probability=False, random_state=None, shrinking=True,\n",
    "  tol=0.001, verbose=False)\n",
    "y_predict = svclassifier.predict(X_test)"
   ]
  },
  {
   "cell_type": "code",
   "execution_count": 294,
   "metadata": {},
   "outputs": [
    {
     "name": "stdout",
     "output_type": "stream",
     "text": [
      "Test Acc: 0.880\n"
     ]
    }
   ],
   "source": [
    "#print the accuracy of the model \n",
    "print('Test Acc: %.3f' % model.score(X_test, y_test)) "
   ]
  },
  {
   "cell_type": "code",
   "execution_count": 296,
   "metadata": {},
   "outputs": [
    {
     "name": "stdout",
     "output_type": "stream",
     "text": [
      "[[ 7  1]\n",
      " [ 2 15]]\n",
      "              precision    recall  f1-score   support\n",
      "\n",
      "           0       0.78      0.88      0.82         8\n",
      "           1       0.94      0.88      0.91        17\n",
      "\n",
      "    accuracy                           0.88        25\n",
      "   macro avg       0.86      0.88      0.87        25\n",
      "weighted avg       0.89      0.88      0.88        25\n",
      "\n"
     ]
    }
   ],
   "source": [
    "#calculated the classified report\n",
    "from sklearn.metrics import classification_report, confusion_matrix\n",
    "print(confusion_matrix(y_test, y_predict))\n",
    "print(classification_report(y_test, y_predict))"
   ]
  },
  {
   "cell_type": "code",
   "execution_count": null,
   "metadata": {},
   "outputs": [],
   "source": [
    "#With the classification report we confirm that the model was able to identify movies with a 6+ average score 88% of the time.\n",
    "#With an F1 score of 0.91, we confirm that our model has a very high level of accuracy at predicting a positive outcome"
   ]
  },
  {
   "cell_type": "code",
   "execution_count": 297,
   "metadata": {},
   "outputs": [],
   "source": [
    "#refrence: https://intellipaat.com/blog/tutorial/machine-learning-tutorial/svm-algorithm-in-python/"
   ]
  },
  {
   "cell_type": "code",
   "execution_count": 304,
   "metadata": {},
   "outputs": [
    {
     "name": "stderr",
     "output_type": "stream",
     "text": [
      "/Users/jennieleegruber/opt/anaconda3/lib/python3.8/site-packages/sklearn/utils/deprecation.py:143: FutureWarning: The sklearn.datasets.samples_generator module is  deprecated in version 0.22 and will be removed in version 0.24. The corresponding classes / functions should instead be imported from sklearn.datasets. Anything that cannot be imported from sklearn.datasets is now part of the private API.\n",
      "  warnings.warn(message, FutureWarning)\n"
     ]
    },
    {
     "data": {
      "image/png": "[encoded data removed]",
      "text/plain": [
       "<Figure size 432x288 with 1 Axes>"
      ]
     },
     "metadata": {},
     "output_type": "display_data"
    }
   ],
   "source": [
    "from sklearn.datasets.samples_generator import make_blobs\n",
    "X, y = make_blobs(n_samples=40, centers=2, random_state=42, cluster_std=1.25)\n",
    "plt.scatter(X[:, 0], X[:, 1], c=y, s=100, cmap=\"bwr\");\n",
    "plt.show()"
   ]
  }
 ],
 "metadata": {
  "kernelspec": {
   "display_name": "Python 3",
   "language": "python",
   "name": "python3"
  },
  "language_info": {
   "codemirror_mode": {
    "name": "ipython",
    "version": 3
   },
   "file_extension": ".py",
   "mimetype": "text/x-python",
   "name": "python",
   "nbconvert_exporter": "python",
   "pygments_lexer": "ipython3",
   "version": "3.8.3"
  }
 },
 "nbformat": 4,
 "nbformat_minor": 4
}
